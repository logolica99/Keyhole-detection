{
  "nbformat": 4,
  "nbformat_minor": 0,
  "metadata": {
    "colab": {
      "provenance": [],
      "authorship_tag": "ABX9TyN1jBp6ESROjEitID9M0JPu",
      "include_colab_link": true
    },
    "kernelspec": {
      "name": "python3",
      "display_name": "Python 3"
    },
    "language_info": {
      "name": "python"
    }
  },
  "cells": [
    {
      "cell_type": "markdown",
      "metadata": {
        "id": "view-in-github",
        "colab_type": "text"
      },
      "source": [
        "<a href=\"https://colab.research.google.com/github/logolica99/Keyhole-detection/blob/main/Keyhole_Detection.ipynb\" target=\"_parent\"><img src=\"https://colab.research.google.com/assets/colab-badge.svg\" alt=\"Open In Colab\"/></a>"
      ]
    },
    {
      "cell_type": "code",
      "source": [
        "from google.colab import drive\n",
        "drive.mount('/content/drive')"
      ],
      "metadata": {
        "colab": {
          "base_uri": "https://localhost:8080/"
        },
        "id": "ReL69S-YCGTk",
        "outputId": "f02caeb0-fbc1-434f-ef40-6eaa0e7f73f3"
      },
      "execution_count": null,
      "outputs": [
        {
          "output_type": "stream",
          "name": "stdout",
          "text": [
            "Mounted at /content/drive\n"
          ]
        }
      ]
    },
    {
      "cell_type": "code",
      "source": [
        "ROOT_DIR = '/content/drive/My Drive/Keyhole Detection'"
      ],
      "metadata": {
        "id": "FsVogwWvDRWi"
      },
      "execution_count": null,
      "outputs": []
    },
    {
      "cell_type": "code",
      "source": [
        "!pip install ultralytics"
      ],
      "metadata": {
        "colab": {
          "base_uri": "https://localhost:8080/"
        },
        "id": "YstFCGrqDl4a",
        "outputId": "939ad0da-a216-442f-d442-308d145bdaf0"
      },
      "execution_count": null,
      "outputs": [
        {
          "output_type": "stream",
          "name": "stdout",
          "text": [
            "Collecting ultralytics\n",
            "  Downloading ultralytics-8.0.217-py3-none-any.whl (645 kB)\n",
            "\u001b[2K     \u001b[90m━━━━━━━━━━━━━━━━━━━━━━━━━━━━━━━━━━━━━━━━\u001b[0m \u001b[32m645.7/645.7 kB\u001b[0m \u001b[31m6.3 MB/s\u001b[0m eta \u001b[36m0:00:00\u001b[0m\n",
            "\u001b[?25hRequirement already satisfied: matplotlib>=3.3.0 in /usr/local/lib/python3.10/dist-packages (from ultralytics) (3.7.1)\n",
            "Requirement already satisfied: numpy>=1.22.2 in /usr/local/lib/python3.10/dist-packages (from ultralytics) (1.23.5)\n",
            "Requirement already satisfied: opencv-python>=4.6.0 in /usr/local/lib/python3.10/dist-packages (from ultralytics) (4.8.0.76)\n",
            "Requirement already satisfied: pillow>=7.1.2 in /usr/local/lib/python3.10/dist-packages (from ultralytics) (9.4.0)\n",
            "Requirement already satisfied: pyyaml>=5.3.1 in /usr/local/lib/python3.10/dist-packages (from ultralytics) (6.0.1)\n",
            "Requirement already satisfied: requests>=2.23.0 in /usr/local/lib/python3.10/dist-packages (from ultralytics) (2.31.0)\n",
            "Requirement already satisfied: scipy>=1.4.1 in /usr/local/lib/python3.10/dist-packages (from ultralytics) (1.11.3)\n",
            "Requirement already satisfied: torch>=1.8.0 in /usr/local/lib/python3.10/dist-packages (from ultralytics) (2.1.0+cu118)\n",
            "Requirement already satisfied: torchvision>=0.9.0 in /usr/local/lib/python3.10/dist-packages (from ultralytics) (0.16.0+cu118)\n",
            "Requirement already satisfied: tqdm>=4.64.0 in /usr/local/lib/python3.10/dist-packages (from ultralytics) (4.66.1)\n",
            "Requirement already satisfied: pandas>=1.1.4 in /usr/local/lib/python3.10/dist-packages (from ultralytics) (1.5.3)\n",
            "Requirement already satisfied: seaborn>=0.11.0 in /usr/local/lib/python3.10/dist-packages (from ultralytics) (0.12.2)\n",
            "Requirement already satisfied: psutil in /usr/local/lib/python3.10/dist-packages (from ultralytics) (5.9.5)\n",
            "Requirement already satisfied: py-cpuinfo in /usr/local/lib/python3.10/dist-packages (from ultralytics) (9.0.0)\n",
            "Collecting thop>=0.1.1 (from ultralytics)\n",
            "  Downloading thop-0.1.1.post2209072238-py3-none-any.whl (15 kB)\n",
            "Requirement already satisfied: contourpy>=1.0.1 in /usr/local/lib/python3.10/dist-packages (from matplotlib>=3.3.0->ultralytics) (1.2.0)\n",
            "Requirement already satisfied: cycler>=0.10 in /usr/local/lib/python3.10/dist-packages (from matplotlib>=3.3.0->ultralytics) (0.12.1)\n",
            "Requirement already satisfied: fonttools>=4.22.0 in /usr/local/lib/python3.10/dist-packages (from matplotlib>=3.3.0->ultralytics) (4.44.3)\n",
            "Requirement already satisfied: kiwisolver>=1.0.1 in /usr/local/lib/python3.10/dist-packages (from matplotlib>=3.3.0->ultralytics) (1.4.5)\n",
            "Requirement already satisfied: packaging>=20.0 in /usr/local/lib/python3.10/dist-packages (from matplotlib>=3.3.0->ultralytics) (23.2)\n",
            "Requirement already satisfied: pyparsing>=2.3.1 in /usr/local/lib/python3.10/dist-packages (from matplotlib>=3.3.0->ultralytics) (3.1.1)\n",
            "Requirement already satisfied: python-dateutil>=2.7 in /usr/local/lib/python3.10/dist-packages (from matplotlib>=3.3.0->ultralytics) (2.8.2)\n",
            "Requirement already satisfied: pytz>=2020.1 in /usr/local/lib/python3.10/dist-packages (from pandas>=1.1.4->ultralytics) (2023.3.post1)\n",
            "Requirement already satisfied: charset-normalizer<4,>=2 in /usr/local/lib/python3.10/dist-packages (from requests>=2.23.0->ultralytics) (3.3.2)\n",
            "Requirement already satisfied: idna<4,>=2.5 in /usr/local/lib/python3.10/dist-packages (from requests>=2.23.0->ultralytics) (3.4)\n",
            "Requirement already satisfied: urllib3<3,>=1.21.1 in /usr/local/lib/python3.10/dist-packages (from requests>=2.23.0->ultralytics) (2.0.7)\n",
            "Requirement already satisfied: certifi>=2017.4.17 in /usr/local/lib/python3.10/dist-packages (from requests>=2.23.0->ultralytics) (2023.7.22)\n",
            "Requirement already satisfied: filelock in /usr/local/lib/python3.10/dist-packages (from torch>=1.8.0->ultralytics) (3.13.1)\n",
            "Requirement already satisfied: typing-extensions in /usr/local/lib/python3.10/dist-packages (from torch>=1.8.0->ultralytics) (4.5.0)\n",
            "Requirement already satisfied: sympy in /usr/local/lib/python3.10/dist-packages (from torch>=1.8.0->ultralytics) (1.12)\n",
            "Requirement already satisfied: networkx in /usr/local/lib/python3.10/dist-packages (from torch>=1.8.0->ultralytics) (3.2.1)\n",
            "Requirement already satisfied: jinja2 in /usr/local/lib/python3.10/dist-packages (from torch>=1.8.0->ultralytics) (3.1.2)\n",
            "Requirement already satisfied: fsspec in /usr/local/lib/python3.10/dist-packages (from torch>=1.8.0->ultralytics) (2023.6.0)\n",
            "Requirement already satisfied: triton==2.1.0 in /usr/local/lib/python3.10/dist-packages (from torch>=1.8.0->ultralytics) (2.1.0)\n",
            "Requirement already satisfied: six>=1.5 in /usr/local/lib/python3.10/dist-packages (from python-dateutil>=2.7->matplotlib>=3.3.0->ultralytics) (1.16.0)\n",
            "Requirement already satisfied: MarkupSafe>=2.0 in /usr/local/lib/python3.10/dist-packages (from jinja2->torch>=1.8.0->ultralytics) (2.1.3)\n",
            "Requirement already satisfied: mpmath>=0.19 in /usr/local/lib/python3.10/dist-packages (from sympy->torch>=1.8.0->ultralytics) (1.3.0)\n",
            "Installing collected packages: thop, ultralytics\n",
            "Successfully installed thop-0.1.1.post2209072238 ultralytics-8.0.217\n"
          ]
        }
      ]
    },
    {
      "cell_type": "code",
      "source": [
        "import os\n",
        "\n",
        "from ultralytics import YOLO\n",
        "\n",
        "\n",
        "# Load a model\n",
        "model = YOLO(\"yolov8n.yaml\")  # build a new model from scratch\n",
        "\n",
        "# Use the model\n",
        "results = model.train(data=os.path.join(ROOT_DIR, \"google_colab_config.yaml\"), epochs=20)  # train the model"
      ],
      "metadata": {
        "colab": {
          "base_uri": "https://localhost:8080/"
        },
        "id": "Z4LYZPbbDmMZ",
        "outputId": "19d84eea-ab0f-41c3-c195-400a286d517e"
      },
      "execution_count": null,
      "outputs": [
        {
          "output_type": "stream",
          "name": "stdout",
          "text": [
            "\n",
            "                   from  n    params  module                                       arguments                     \n",
            "  0                  -1  1       464  ultralytics.nn.modules.conv.Conv             [3, 16, 3, 2]                 \n",
            "  1                  -1  1      4672  ultralytics.nn.modules.conv.Conv             [16, 32, 3, 2]                \n",
            "  2                  -1  1      7360  ultralytics.nn.modules.block.C2f             [32, 32, 1, True]             \n",
            "  3                  -1  1     18560  ultralytics.nn.modules.conv.Conv             [32, 64, 3, 2]                \n",
            "  4                  -1  2     49664  ultralytics.nn.modules.block.C2f             [64, 64, 2, True]             \n",
            "  5                  -1  1     73984  ultralytics.nn.modules.conv.Conv             [64, 128, 3, 2]               \n",
            "  6                  -1  2    197632  ultralytics.nn.modules.block.C2f             [128, 128, 2, True]           \n",
            "  7                  -1  1    295424  ultralytics.nn.modules.conv.Conv             [128, 256, 3, 2]              \n",
            "  8                  -1  1    460288  ultralytics.nn.modules.block.C2f             [256, 256, 1, True]           \n",
            "  9                  -1  1    164608  ultralytics.nn.modules.block.SPPF            [256, 256, 5]                 \n",
            " 10                  -1  1         0  torch.nn.modules.upsampling.Upsample         [None, 2, 'nearest']          \n",
            " 11             [-1, 6]  1         0  ultralytics.nn.modules.conv.Concat           [1]                           \n",
            " 12                  -1  1    148224  ultralytics.nn.modules.block.C2f             [384, 128, 1]                 \n",
            " 13                  -1  1         0  torch.nn.modules.upsampling.Upsample         [None, 2, 'nearest']          \n",
            " 14             [-1, 4]  1         0  ultralytics.nn.modules.conv.Concat           [1]                           \n",
            " 15                  -1  1     37248  ultralytics.nn.modules.block.C2f             [192, 64, 1]                  \n",
            " 16                  -1  1     36992  ultralytics.nn.modules.conv.Conv             [64, 64, 3, 2]                \n",
            " 17            [-1, 12]  1         0  ultralytics.nn.modules.conv.Concat           [1]                           \n",
            " 18                  -1  1    123648  ultralytics.nn.modules.block.C2f             [192, 128, 1]                 \n",
            " 19                  -1  1    147712  ultralytics.nn.modules.conv.Conv             [128, 128, 3, 2]              \n",
            " 20             [-1, 9]  1         0  ultralytics.nn.modules.conv.Concat           [1]                           \n",
            " 21                  -1  1    493056  ultralytics.nn.modules.block.C2f             [384, 256, 1]                 \n",
            " 22        [15, 18, 21]  1    897664  ultralytics.nn.modules.head.Detect           [80, [64, 128, 256]]          \n",
            "YOLOv8n summary: 225 layers, 3157200 parameters, 3157184 gradients, 8.9 GFLOPs\n",
            "\n",
            "Ultralytics YOLOv8.0.217 🚀 Python-3.10.12 torch-2.1.0+cu118 CPU (Intel Xeon 2.20GHz)\n",
            "\u001b[34m\u001b[1mengine/trainer: \u001b[0mtask=detect, mode=train, model=yolov8n.yaml, data=/content/drive/My Drive/Keyhole Detection/google_colab_config.yaml, epochs=20, patience=50, batch=16, imgsz=640, save=True, save_period=-1, cache=False, device=None, workers=8, project=None, name=train, exist_ok=False, pretrained=True, optimizer=auto, verbose=True, seed=0, deterministic=True, single_cls=False, rect=False, cos_lr=False, close_mosaic=10, resume=False, amp=True, fraction=1.0, profile=False, freeze=None, overlap_mask=True, mask_ratio=4, dropout=0.0, val=True, split=val, save_json=False, save_hybrid=False, conf=None, iou=0.7, max_det=300, half=False, dnn=False, plots=True, source=None, show=False, save_txt=False, save_conf=False, save_crop=False, show_labels=True, show_conf=True, vid_stride=1, stream_buffer=False, line_width=None, visualize=False, augment=False, agnostic_nms=False, classes=None, retina_masks=False, boxes=True, format=torchscript, keras=False, optimize=False, int8=False, dynamic=False, simplify=False, opset=None, workspace=4, nms=False, lr0=0.01, lrf=0.01, momentum=0.937, weight_decay=0.0005, warmup_epochs=3.0, warmup_momentum=0.8, warmup_bias_lr=0.1, box=7.5, cls=0.5, dfl=1.5, pose=12.0, kobj=1.0, label_smoothing=0.0, nbs=64, hsv_h=0.015, hsv_s=0.7, hsv_v=0.4, degrees=0.0, translate=0.1, scale=0.5, shear=0.0, perspective=0.0, flipud=0.0, fliplr=0.5, mosaic=1.0, mixup=0.0, copy_paste=0.0, cfg=None, tracker=botsort.yaml, save_dir=runs/detect/train\n",
            "Downloading https://ultralytics.com/assets/Arial.ttf to '/root/.config/Ultralytics/Arial.ttf'...\n"
          ]
        },
        {
          "output_type": "stream",
          "name": "stderr",
          "text": [
            "100%|██████████| 755k/755k [00:00<00:00, 22.7MB/s]\n"
          ]
        },
        {
          "output_type": "stream",
          "name": "stdout",
          "text": [
            "Overriding model.yaml nc=80 with nc=1\n",
            "\n",
            "                   from  n    params  module                                       arguments                     \n",
            "  0                  -1  1       464  ultralytics.nn.modules.conv.Conv             [3, 16, 3, 2]                 \n",
            "  1                  -1  1      4672  ultralytics.nn.modules.conv.Conv             [16, 32, 3, 2]                \n",
            "  2                  -1  1      7360  ultralytics.nn.modules.block.C2f             [32, 32, 1, True]             \n",
            "  3                  -1  1     18560  ultralytics.nn.modules.conv.Conv             [32, 64, 3, 2]                \n",
            "  4                  -1  2     49664  ultralytics.nn.modules.block.C2f             [64, 64, 2, True]             \n",
            "  5                  -1  1     73984  ultralytics.nn.modules.conv.Conv             [64, 128, 3, 2]               \n",
            "  6                  -1  2    197632  ultralytics.nn.modules.block.C2f             [128, 128, 2, True]           \n",
            "  7                  -1  1    295424  ultralytics.nn.modules.conv.Conv             [128, 256, 3, 2]              \n",
            "  8                  -1  1    460288  ultralytics.nn.modules.block.C2f             [256, 256, 1, True]           \n",
            "  9                  -1  1    164608  ultralytics.nn.modules.block.SPPF            [256, 256, 5]                 \n",
            " 10                  -1  1         0  torch.nn.modules.upsampling.Upsample         [None, 2, 'nearest']          \n",
            " 11             [-1, 6]  1         0  ultralytics.nn.modules.conv.Concat           [1]                           \n",
            " 12                  -1  1    148224  ultralytics.nn.modules.block.C2f             [384, 128, 1]                 \n",
            " 13                  -1  1         0  torch.nn.modules.upsampling.Upsample         [None, 2, 'nearest']          \n",
            " 14             [-1, 4]  1         0  ultralytics.nn.modules.conv.Concat           [1]                           \n",
            " 15                  -1  1     37248  ultralytics.nn.modules.block.C2f             [192, 64, 1]                  \n",
            " 16                  -1  1     36992  ultralytics.nn.modules.conv.Conv             [64, 64, 3, 2]                \n",
            " 17            [-1, 12]  1         0  ultralytics.nn.modules.conv.Concat           [1]                           \n",
            " 18                  -1  1    123648  ultralytics.nn.modules.block.C2f             [192, 128, 1]                 \n",
            " 19                  -1  1    147712  ultralytics.nn.modules.conv.Conv             [128, 128, 3, 2]              \n",
            " 20             [-1, 9]  1         0  ultralytics.nn.modules.conv.Concat           [1]                           \n",
            " 21                  -1  1    493056  ultralytics.nn.modules.block.C2f             [384, 256, 1]                 \n",
            " 22        [15, 18, 21]  1    751507  ultralytics.nn.modules.head.Detect           [1, [64, 128, 256]]           \n",
            "YOLOv8n summary: 225 layers, 3011043 parameters, 3011027 gradients, 8.2 GFLOPs\n",
            "\n",
            "\u001b[34m\u001b[1mTensorBoard: \u001b[0mStart with 'tensorboard --logdir runs/detect/train', view at http://localhost:6006/\n",
            "Freezing layer 'model.22.dfl.conv.weight'\n"
          ]
        },
        {
          "output_type": "stream",
          "name": "stderr",
          "text": [
            "\u001b[34m\u001b[1mtrain: \u001b[0mScanning /content/drive/My Drive/Keyhole Detection/data/labels/train... 152 images, 0 backgrounds, 0 corrupt: 100%|██████████| 152/152 [01:14<00:00,  2.03it/s]"
          ]
        },
        {
          "output_type": "stream",
          "name": "stdout",
          "text": [
            "\u001b[34m\u001b[1mtrain: \u001b[0mNew cache created: /content/drive/My Drive/Keyhole Detection/data/labels/train.cache\n"
          ]
        },
        {
          "output_type": "stream",
          "name": "stderr",
          "text": [
            "\n"
          ]
        },
        {
          "output_type": "stream",
          "name": "stdout",
          "text": [
            "\u001b[34m\u001b[1malbumentations: \u001b[0mBlur(p=0.01, blur_limit=(3, 7)), MedianBlur(p=0.01, blur_limit=(3, 7)), ToGray(p=0.01), CLAHE(p=0.01, clip_limit=(1, 4.0), tile_grid_size=(8, 8))\n"
          ]
        },
        {
          "output_type": "stream",
          "name": "stderr",
          "text": [
            "\u001b[34m\u001b[1mval: \u001b[0mScanning /content/drive/My Drive/Keyhole Detection/data/labels/train.cache... 152 images, 0 backgrounds, 0 corrupt: 100%|██████████| 152/152 [00:00<?, ?it/s]"
          ]
        },
        {
          "output_type": "stream",
          "name": "stdout",
          "text": [
            "Plotting labels to runs/detect/train/labels.jpg... \n"
          ]
        },
        {
          "output_type": "stream",
          "name": "stderr",
          "text": [
            "\n"
          ]
        },
        {
          "output_type": "stream",
          "name": "stdout",
          "text": [
            "\u001b[34m\u001b[1moptimizer:\u001b[0m 'optimizer=auto' found, ignoring 'lr0=0.01' and 'momentum=0.937' and determining best 'optimizer', 'lr0' and 'momentum' automatically... \n",
            "\u001b[34m\u001b[1moptimizer:\u001b[0m AdamW(lr=0.002, momentum=0.9) with parameter groups 57 weight(decay=0.0), 64 weight(decay=0.0005), 63 bias(decay=0.0)\n",
            "Image sizes 640 train, 640 val\n",
            "Using 0 dataloader workers\n",
            "Logging results to \u001b[1mruns/detect/train\u001b[0m\n",
            "Starting training for 20 epochs...\n",
            "\n",
            "      Epoch    GPU_mem   box_loss   cls_loss   dfl_loss  Instances       Size\n"
          ]
        },
        {
          "output_type": "stream",
          "name": "stderr",
          "text": [
            "       1/20         0G      5.558      7.984      4.245         14        640: 100%|██████████| 10/10 [02:37<00:00, 15.73s/it]\n",
            "                 Class     Images  Instances      Box(P          R      mAP50  mAP50-95): 100%|██████████| 5/5 [00:33<00:00,  6.79s/it]"
          ]
        },
        {
          "output_type": "stream",
          "name": "stdout",
          "text": [
            "                   all        152        152          0          0          0          0\n"
          ]
        },
        {
          "output_type": "stream",
          "name": "stderr",
          "text": [
            "\n"
          ]
        },
        {
          "output_type": "stream",
          "name": "stdout",
          "text": [
            "\n",
            "      Epoch    GPU_mem   box_loss   cls_loss   dfl_loss  Instances       Size\n"
          ]
        },
        {
          "output_type": "stream",
          "name": "stderr",
          "text": [
            "       2/20         0G      5.315      7.903      4.061         19        640: 100%|██████████| 10/10 [02:16<00:00, 13.65s/it]\n",
            "                 Class     Images  Instances      Box(P          R      mAP50  mAP50-95): 100%|██████████| 5/5 [00:37<00:00,  7.56s/it]"
          ]
        },
        {
          "output_type": "stream",
          "name": "stdout",
          "text": [
            "                   all        152        152          0          0          0          0\n"
          ]
        },
        {
          "output_type": "stream",
          "name": "stderr",
          "text": [
            "\n"
          ]
        },
        {
          "output_type": "stream",
          "name": "stdout",
          "text": [
            "\n",
            "      Epoch    GPU_mem   box_loss   cls_loss   dfl_loss  Instances       Size\n"
          ]
        },
        {
          "output_type": "stream",
          "name": "stderr",
          "text": [
            "       3/20         0G      4.507      6.199      3.766         22        640: 100%|██████████| 10/10 [02:14<00:00, 13.42s/it]\n",
            "                 Class     Images  Instances      Box(P          R      mAP50  mAP50-95): 100%|██████████| 5/5 [00:35<00:00,  7.02s/it]"
          ]
        },
        {
          "output_type": "stream",
          "name": "stdout",
          "text": [
            "                   all        152        152          0          0          0          0\n"
          ]
        },
        {
          "output_type": "stream",
          "name": "stderr",
          "text": [
            "\n"
          ]
        },
        {
          "output_type": "stream",
          "name": "stdout",
          "text": [
            "\n",
            "      Epoch    GPU_mem   box_loss   cls_loss   dfl_loss  Instances       Size\n"
          ]
        },
        {
          "output_type": "stream",
          "name": "stderr",
          "text": [
            "       4/20         0G      3.849      5.255      3.404         22        640: 100%|██████████| 10/10 [02:10<00:00, 13.01s/it]\n",
            "                 Class     Images  Instances      Box(P          R      mAP50  mAP50-95): 100%|██████████| 5/5 [00:34<00:00,  6.95s/it]"
          ]
        },
        {
          "output_type": "stream",
          "name": "stdout",
          "text": [
            "                   all        152        152          0          0          0          0\n"
          ]
        },
        {
          "output_type": "stream",
          "name": "stderr",
          "text": [
            "\n"
          ]
        },
        {
          "output_type": "stream",
          "name": "stdout",
          "text": [
            "\n",
            "      Epoch    GPU_mem   box_loss   cls_loss   dfl_loss  Instances       Size\n"
          ]
        },
        {
          "output_type": "stream",
          "name": "stderr",
          "text": [
            "       5/20         0G       3.29      4.821      3.152         17        640: 100%|██████████| 10/10 [02:09<00:00, 12.91s/it]\n",
            "                 Class     Images  Instances      Box(P          R      mAP50  mAP50-95): 100%|██████████| 5/5 [00:32<00:00,  6.60s/it]"
          ]
        },
        {
          "output_type": "stream",
          "name": "stdout",
          "text": [
            "                   all        152        152          0          0          0          0\n"
          ]
        },
        {
          "output_type": "stream",
          "name": "stderr",
          "text": [
            "\n"
          ]
        },
        {
          "output_type": "stream",
          "name": "stdout",
          "text": [
            "\n",
            "      Epoch    GPU_mem   box_loss   cls_loss   dfl_loss  Instances       Size\n"
          ]
        },
        {
          "output_type": "stream",
          "name": "stderr",
          "text": [
            "       6/20         0G      3.067      4.608      2.781         12        640: 100%|██████████| 10/10 [02:11<00:00, 13.18s/it]\n",
            "                 Class     Images  Instances      Box(P          R      mAP50  mAP50-95): 100%|██████████| 5/5 [00:39<00:00,  7.94s/it]"
          ]
        },
        {
          "output_type": "stream",
          "name": "stdout",
          "text": [
            "                   all        152        152          0          0          0          0\n"
          ]
        },
        {
          "output_type": "stream",
          "name": "stderr",
          "text": [
            "\n"
          ]
        },
        {
          "output_type": "stream",
          "name": "stdout",
          "text": [
            "\n",
            "      Epoch    GPU_mem   box_loss   cls_loss   dfl_loss  Instances       Size\n"
          ]
        },
        {
          "output_type": "stream",
          "name": "stderr",
          "text": [
            "       7/20         0G      3.136      4.214      2.689         22        640: 100%|██████████| 10/10 [02:12<00:00, 13.25s/it]\n",
            "                 Class     Images  Instances      Box(P          R      mAP50  mAP50-95): 100%|██████████| 5/5 [00:35<00:00,  7.01s/it]"
          ]
        },
        {
          "output_type": "stream",
          "name": "stdout",
          "text": [
            "                   all        152        152          0          0          0          0\n"
          ]
        },
        {
          "output_type": "stream",
          "name": "stderr",
          "text": [
            "\n"
          ]
        },
        {
          "output_type": "stream",
          "name": "stdout",
          "text": [
            "\n",
            "      Epoch    GPU_mem   box_loss   cls_loss   dfl_loss  Instances       Size\n"
          ]
        },
        {
          "output_type": "stream",
          "name": "stderr",
          "text": [
            "       8/20         0G      3.133       4.17      2.561         16        640: 100%|██████████| 10/10 [02:11<00:00, 13.15s/it]\n",
            "                 Class     Images  Instances      Box(P          R      mAP50  mAP50-95): 100%|██████████| 5/5 [00:33<00:00,  6.80s/it]"
          ]
        },
        {
          "output_type": "stream",
          "name": "stdout",
          "text": [
            "                   all        152        152          0          0          0          0\n"
          ]
        },
        {
          "output_type": "stream",
          "name": "stderr",
          "text": [
            "\n"
          ]
        },
        {
          "output_type": "stream",
          "name": "stdout",
          "text": [
            "\n",
            "      Epoch    GPU_mem   box_loss   cls_loss   dfl_loss  Instances       Size\n"
          ]
        },
        {
          "output_type": "stream",
          "name": "stderr",
          "text": [
            "       9/20         0G      2.774      3.953      2.564         17        640: 100%|██████████| 10/10 [02:09<00:00, 12.98s/it]\n",
            "                 Class     Images  Instances      Box(P          R      mAP50  mAP50-95): 100%|██████████| 5/5 [00:33<00:00,  6.79s/it]"
          ]
        },
        {
          "output_type": "stream",
          "name": "stdout",
          "text": [
            "                   all        152        152          0          0          0          0\n"
          ]
        },
        {
          "output_type": "stream",
          "name": "stderr",
          "text": [
            "\n"
          ]
        },
        {
          "output_type": "stream",
          "name": "stdout",
          "text": [
            "\n",
            "      Epoch    GPU_mem   box_loss   cls_loss   dfl_loss  Instances       Size\n"
          ]
        },
        {
          "output_type": "stream",
          "name": "stderr",
          "text": [
            "      10/20         0G      2.888      3.803      2.532          9        640: 100%|██████████| 10/10 [02:12<00:00, 13.28s/it]\n",
            "                 Class     Images  Instances      Box(P          R      mAP50  mAP50-95): 100%|██████████| 5/5 [00:35<00:00,  7.02s/it]"
          ]
        },
        {
          "output_type": "stream",
          "name": "stdout",
          "text": [
            "                   all        152        152          0          0          0          0\n"
          ]
        },
        {
          "output_type": "stream",
          "name": "stderr",
          "text": [
            "\n"
          ]
        },
        {
          "output_type": "stream",
          "name": "stdout",
          "text": [
            "Closing dataloader mosaic\n",
            "\u001b[34m\u001b[1malbumentations: \u001b[0mBlur(p=0.01, blur_limit=(3, 7)), MedianBlur(p=0.01, blur_limit=(3, 7)), ToGray(p=0.01), CLAHE(p=0.01, clip_limit=(1, 4.0), tile_grid_size=(8, 8))\n",
            "\n",
            "      Epoch    GPU_mem   box_loss   cls_loss   dfl_loss  Instances       Size\n"
          ]
        },
        {
          "output_type": "stream",
          "name": "stderr",
          "text": [
            "      11/20         0G      2.712      4.184      2.694          8        640: 100%|██████████| 10/10 [02:10<00:00, 13.06s/it]\n",
            "                 Class     Images  Instances      Box(P          R      mAP50  mAP50-95): 100%|██████████| 5/5 [00:32<00:00,  6.42s/it]"
          ]
        },
        {
          "output_type": "stream",
          "name": "stdout",
          "text": [
            "                   all        152        152          0          0          0          0\n"
          ]
        },
        {
          "output_type": "stream",
          "name": "stderr",
          "text": [
            "\n"
          ]
        },
        {
          "output_type": "stream",
          "name": "stdout",
          "text": [
            "\n",
            "      Epoch    GPU_mem   box_loss   cls_loss   dfl_loss  Instances       Size\n"
          ]
        },
        {
          "output_type": "stream",
          "name": "stderr",
          "text": [
            "      12/20         0G      2.545      3.871      2.643          8        640: 100%|██████████| 10/10 [02:07<00:00, 12.77s/it]\n",
            "                 Class     Images  Instances      Box(P          R      mAP50  mAP50-95): 100%|██████████| 5/5 [00:32<00:00,  6.50s/it]"
          ]
        },
        {
          "output_type": "stream",
          "name": "stdout",
          "text": [
            "                   all        152        152          0          0          0          0\n"
          ]
        },
        {
          "output_type": "stream",
          "name": "stderr",
          "text": [
            "\n"
          ]
        },
        {
          "output_type": "stream",
          "name": "stdout",
          "text": [
            "\n",
            "      Epoch    GPU_mem   box_loss   cls_loss   dfl_loss  Instances       Size\n"
          ]
        },
        {
          "output_type": "stream",
          "name": "stderr",
          "text": [
            "      13/20         0G       2.52      3.589      2.587          8        640: 100%|██████████| 10/10 [02:09<00:00, 13.00s/it]\n",
            "                 Class     Images  Instances      Box(P          R      mAP50  mAP50-95): 100%|██████████| 5/5 [00:34<00:00,  6.94s/it]"
          ]
        },
        {
          "output_type": "stream",
          "name": "stdout",
          "text": [
            "                   all        152        152          0          0          0          0\n"
          ]
        },
        {
          "output_type": "stream",
          "name": "stderr",
          "text": [
            "\n"
          ]
        },
        {
          "output_type": "stream",
          "name": "stdout",
          "text": [
            "\n",
            "      Epoch    GPU_mem   box_loss   cls_loss   dfl_loss  Instances       Size\n"
          ]
        },
        {
          "output_type": "stream",
          "name": "stderr",
          "text": [
            "      14/20         0G      2.481      3.429       2.48          8        640: 100%|██████████| 10/10 [02:09<00:00, 12.99s/it]\n",
            "                 Class     Images  Instances      Box(P          R      mAP50  mAP50-95): 100%|██████████| 5/5 [00:34<00:00,  7.00s/it]"
          ]
        },
        {
          "output_type": "stream",
          "name": "stdout",
          "text": [
            "                   all        152        152          0          0          0          0\n"
          ]
        },
        {
          "output_type": "stream",
          "name": "stderr",
          "text": [
            "\n"
          ]
        },
        {
          "output_type": "stream",
          "name": "stdout",
          "text": [
            "\n",
            "      Epoch    GPU_mem   box_loss   cls_loss   dfl_loss  Instances       Size\n"
          ]
        },
        {
          "output_type": "stream",
          "name": "stderr",
          "text": [
            "      15/20         0G      2.392      3.435      2.354          8        640: 100%|██████████| 10/10 [02:07<00:00, 12.79s/it]\n",
            "                 Class     Images  Instances      Box(P          R      mAP50  mAP50-95): 100%|██████████| 5/5 [00:35<00:00,  7.05s/it]"
          ]
        },
        {
          "output_type": "stream",
          "name": "stdout",
          "text": [
            "                   all        152        152          0          0          0          0\n"
          ]
        },
        {
          "output_type": "stream",
          "name": "stderr",
          "text": [
            "\n"
          ]
        },
        {
          "output_type": "stream",
          "name": "stdout",
          "text": [
            "\n",
            "      Epoch    GPU_mem   box_loss   cls_loss   dfl_loss  Instances       Size\n"
          ]
        },
        {
          "output_type": "stream",
          "name": "stderr",
          "text": [
            "      16/20         0G      2.341      3.093      2.367          8        640: 100%|██████████| 10/10 [02:10<00:00, 13.05s/it]\n",
            "                 Class     Images  Instances      Box(P          R      mAP50  mAP50-95): 100%|██████████| 5/5 [00:34<00:00,  6.82s/it]"
          ]
        },
        {
          "output_type": "stream",
          "name": "stdout",
          "text": [
            "                   all        152        152          0          0          0          0\n"
          ]
        },
        {
          "output_type": "stream",
          "name": "stderr",
          "text": [
            "\n"
          ]
        },
        {
          "output_type": "stream",
          "name": "stdout",
          "text": [
            "\n",
            "      Epoch    GPU_mem   box_loss   cls_loss   dfl_loss  Instances       Size\n"
          ]
        },
        {
          "output_type": "stream",
          "name": "stderr",
          "text": [
            "      17/20         0G      2.177      2.885      2.312          8        640: 100%|██████████| 10/10 [02:11<00:00, 13.14s/it]\n",
            "                 Class     Images  Instances      Box(P          R      mAP50  mAP50-95): 100%|██████████| 5/5 [00:35<00:00,  7.17s/it]"
          ]
        },
        {
          "output_type": "stream",
          "name": "stdout",
          "text": [
            "                   all        152        152          0          0          0          0\n"
          ]
        },
        {
          "output_type": "stream",
          "name": "stderr",
          "text": [
            "\n"
          ]
        },
        {
          "output_type": "stream",
          "name": "stdout",
          "text": [
            "\n",
            "      Epoch    GPU_mem   box_loss   cls_loss   dfl_loss  Instances       Size\n"
          ]
        },
        {
          "output_type": "stream",
          "name": "stderr",
          "text": [
            "      18/20         0G       2.27      2.967      2.314          8        640: 100%|██████████| 10/10 [02:10<00:00, 13.01s/it]\n",
            "                 Class     Images  Instances      Box(P          R      mAP50  mAP50-95): 100%|██████████| 5/5 [00:34<00:00,  6.95s/it]"
          ]
        },
        {
          "output_type": "stream",
          "name": "stdout",
          "text": [
            "                   all        152        152   0.000503      0.118   0.000392   8.71e-05\n"
          ]
        },
        {
          "output_type": "stream",
          "name": "stderr",
          "text": [
            "\n"
          ]
        },
        {
          "output_type": "stream",
          "name": "stdout",
          "text": [
            "\n",
            "      Epoch    GPU_mem   box_loss   cls_loss   dfl_loss  Instances       Size\n"
          ]
        },
        {
          "output_type": "stream",
          "name": "stderr",
          "text": [
            "      19/20         0G      2.097       2.83      2.238          8        640: 100%|██████████| 10/10 [02:08<00:00, 12.81s/it]\n",
            "                 Class     Images  Instances      Box(P          R      mAP50  mAP50-95): 100%|██████████| 5/5 [00:33<00:00,  6.70s/it]"
          ]
        },
        {
          "output_type": "stream",
          "name": "stdout",
          "text": [
            "                   all        152        152       0.14      0.197     0.0694     0.0146\n"
          ]
        },
        {
          "output_type": "stream",
          "name": "stderr",
          "text": [
            "\n"
          ]
        },
        {
          "output_type": "stream",
          "name": "stdout",
          "text": [
            "\n",
            "      Epoch    GPU_mem   box_loss   cls_loss   dfl_loss  Instances       Size\n"
          ]
        },
        {
          "output_type": "stream",
          "name": "stderr",
          "text": [
            "      20/20         0G      2.252      2.866      2.261          8        640: 100%|██████████| 10/10 [02:10<00:00, 13.09s/it]\n",
            "                 Class     Images  Instances      Box(P          R      mAP50  mAP50-95): 100%|██████████| 5/5 [00:35<00:00,  7.05s/it]"
          ]
        },
        {
          "output_type": "stream",
          "name": "stdout",
          "text": [
            "                   all        152        152       0.36      0.276      0.256       0.06\n"
          ]
        },
        {
          "output_type": "stream",
          "name": "stderr",
          "text": [
            "\n"
          ]
        },
        {
          "output_type": "stream",
          "name": "stdout",
          "text": [
            "\n",
            "20 epochs completed in 0.932 hours.\n",
            "Optimizer stripped from runs/detect/train/weights/last.pt, 6.2MB\n",
            "Optimizer stripped from runs/detect/train/weights/best.pt, 6.2MB\n",
            "\n",
            "Validating runs/detect/train/weights/best.pt...\n",
            "Ultralytics YOLOv8.0.217 🚀 Python-3.10.12 torch-2.1.0+cu118 CPU (Intel Xeon 2.20GHz)\n",
            "YOLOv8n summary (fused): 168 layers, 3005843 parameters, 0 gradients, 8.1 GFLOPs\n"
          ]
        },
        {
          "output_type": "stream",
          "name": "stderr",
          "text": [
            "                 Class     Images  Instances      Box(P          R      mAP50  mAP50-95): 100%|██████████| 5/5 [00:33<00:00,  6.65s/it]\n"
          ]
        },
        {
          "output_type": "stream",
          "name": "stdout",
          "text": [
            "                   all        152        152      0.364      0.276      0.257       0.06\n",
            "Speed: 2.9ms preprocess, 194.6ms inference, 0.0ms loss, 1.4ms postprocess per image\n",
            "Results saved to \u001b[1mruns/detect/train\u001b[0m\n"
          ]
        }
      ]
    },
    {
      "cell_type": "code",
      "source": [
        "!scp -r /content/runs '/content/drive/My Drive/Keyhole Detection'"
      ],
      "metadata": {
        "id": "hmL5fhukDocC"
      },
      "execution_count": null,
      "outputs": []
    },
    {
      "cell_type": "code",
      "source": [
        "import os\n",
        "from ultralytics import YOLO\n",
        "import cv2\n",
        "from google.colab.patches import cv2_imshow\n",
        "\n",
        "\n",
        "\n",
        "# Change the image file name accordingly\n",
        "\n",
        "image_path = '/content/drive/My Drive/Keyhole Detection/data/images/train/015_Ti64_P23t2077um_S2F2.8mm_U18G1200'\n",
        "\n",
        "\n",
        "\n",
        "# # Load a model\n",
        "model_path = os.path.join('.', 'runs', 'detect', 'train3', 'weights', 'last.pt')\n",
        "model = YOLO(model_path)  # load a custom model\n",
        "\n",
        "# Load the image\n",
        "\n",
        "\n",
        "threshold = 0.5\n",
        "\n",
        "for count in range(126,184):\n",
        "  new_image_path = image_path+str(count)+\".tif\"\n",
        "  frame = cv2.imread(new_image_path)\n",
        "  H, W, _ = frame.shape\n",
        "  results = model(frame)[0]\n",
        "  print(len(results.boxes.data.tolist()))\n",
        "\n",
        "  if len(results.boxes.data.tolist())>0:\n",
        "    print(new_image_path)\n",
        "\n",
        "\n",
        "\n",
        "\n",
        "\n",
        "# Run the model on the image\n",
        "\n",
        "# Process the results and mark the objects on the image\n",
        "# for result in results.boxes.data.tolist():\n",
        "#     x1, y1, x2, y2, score, class_id = result\n",
        "\n",
        "#     if score > threshold:\n",
        "#         cv2.rectangle(frame, (int(x1), int(y1)), (int(x2), int(y2)), (0, 255, 0), 4)\n",
        "#         cv2.putText(frame, results.names[int(class_id)].upper(), (int(x1), int(y1 - 10)),\n",
        "#                     cv2.FONT_HERSHEY_SIMPLEX, 1.3, (0, 255, 0), 3, cv2.LINE_AA)\n",
        "\n",
        "# # Display the marked image\n",
        "# cv2_imshow( frame)"
      ],
      "metadata": {
        "colab": {
          "base_uri": "https://localhost:8080/"
        },
        "id": "X4Hhp_mAJmoq",
        "outputId": "cc7c3f86-1b41-4dc7-e7b9-4c998a2cced6"
      },
      "execution_count": null,
      "outputs": [
        {
          "output_type": "stream",
          "name": "stdout",
          "text": [
            "\n",
            "0: 608x640 (no detections), 264.3ms\n",
            "Speed: 25.5ms preprocess, 264.3ms inference, 1.1ms postprocess per image at shape (1, 3, 608, 640)\n",
            "0\n",
            "\n",
            "0: 608x640 (no detections), 208.9ms\n",
            "Speed: 3.6ms preprocess, 208.9ms inference, 0.7ms postprocess per image at shape (1, 3, 608, 640)\n",
            "0\n",
            "\n",
            "0: 608x640 (no detections), 214.7ms\n",
            "Speed: 3.3ms preprocess, 214.7ms inference, 0.8ms postprocess per image at shape (1, 3, 608, 640)\n",
            "0\n",
            "\n",
            "0: 608x640 (no detections), 210.0ms\n",
            "Speed: 3.5ms preprocess, 210.0ms inference, 0.7ms postprocess per image at shape (1, 3, 608, 640)\n",
            "0\n",
            "\n",
            "0: 608x640 (no detections), 207.9ms\n",
            "Speed: 3.1ms preprocess, 207.9ms inference, 0.7ms postprocess per image at shape (1, 3, 608, 640)\n",
            "0\n",
            "\n",
            "0: 608x640 (no detections), 213.3ms\n",
            "Speed: 3.5ms preprocess, 213.3ms inference, 0.7ms postprocess per image at shape (1, 3, 608, 640)\n",
            "0\n",
            "\n",
            "0: 608x640 (no detections), 215.0ms\n",
            "Speed: 3.3ms preprocess, 215.0ms inference, 0.7ms postprocess per image at shape (1, 3, 608, 640)\n",
            "0\n",
            "\n",
            "0: 608x640 (no detections), 208.4ms\n",
            "Speed: 5.9ms preprocess, 208.4ms inference, 0.8ms postprocess per image at shape (1, 3, 608, 640)\n",
            "0\n",
            "\n",
            "0: 608x640 (no detections), 212.1ms\n",
            "Speed: 4.9ms preprocess, 212.1ms inference, 0.7ms postprocess per image at shape (1, 3, 608, 640)\n",
            "0\n",
            "\n",
            "0: 608x640 (no detections), 202.2ms\n",
            "Speed: 3.7ms preprocess, 202.2ms inference, 0.7ms postprocess per image at shape (1, 3, 608, 640)\n",
            "0\n",
            "\n",
            "0: 608x640 (no detections), 209.1ms\n",
            "Speed: 3.2ms preprocess, 209.1ms inference, 0.7ms postprocess per image at shape (1, 3, 608, 640)\n",
            "0\n",
            "\n",
            "0: 608x640 (no detections), 277.0ms\n",
            "Speed: 3.2ms preprocess, 277.0ms inference, 1.0ms postprocess per image at shape (1, 3, 608, 640)\n",
            "0\n",
            "\n",
            "0: 608x640 (no detections), 322.1ms\n",
            "Speed: 3.1ms preprocess, 322.1ms inference, 1.0ms postprocess per image at shape (1, 3, 608, 640)\n",
            "0\n",
            "\n",
            "0: 608x640 (no detections), 329.2ms\n",
            "Speed: 3.2ms preprocess, 329.2ms inference, 0.9ms postprocess per image at shape (1, 3, 608, 640)\n",
            "0\n",
            "\n",
            "0: 608x640 (no detections), 340.3ms\n",
            "Speed: 4.4ms preprocess, 340.3ms inference, 0.9ms postprocess per image at shape (1, 3, 608, 640)\n",
            "0\n",
            "\n",
            "0: 608x640 (no detections), 317.3ms\n",
            "Speed: 3.2ms preprocess, 317.3ms inference, 0.9ms postprocess per image at shape (1, 3, 608, 640)\n",
            "0\n",
            "\n",
            "0: 608x640 (no detections), 319.5ms\n",
            "Speed: 3.0ms preprocess, 319.5ms inference, 1.0ms postprocess per image at shape (1, 3, 608, 640)\n",
            "0\n",
            "\n",
            "0: 608x640 (no detections), 352.7ms\n",
            "Speed: 3.1ms preprocess, 352.7ms inference, 0.9ms postprocess per image at shape (1, 3, 608, 640)\n",
            "0\n",
            "\n",
            "0: 608x640 (no detections), 325.0ms\n",
            "Speed: 3.3ms preprocess, 325.0ms inference, 0.9ms postprocess per image at shape (1, 3, 608, 640)\n",
            "0\n",
            "\n",
            "0: 608x640 (no detections), 302.2ms\n",
            "Speed: 3.1ms preprocess, 302.2ms inference, 0.9ms postprocess per image at shape (1, 3, 608, 640)\n",
            "0\n",
            "\n",
            "0: 608x640 (no detections), 321.7ms\n",
            "Speed: 3.1ms preprocess, 321.7ms inference, 0.9ms postprocess per image at shape (1, 3, 608, 640)\n",
            "0\n",
            "\n",
            "0: 608x640 (no detections), 316.4ms\n",
            "Speed: 3.1ms preprocess, 316.4ms inference, 0.9ms postprocess per image at shape (1, 3, 608, 640)\n",
            "0\n",
            "\n",
            "0: 608x640 (no detections), 353.6ms\n",
            "Speed: 3.2ms preprocess, 353.6ms inference, 1.0ms postprocess per image at shape (1, 3, 608, 640)\n",
            "0\n",
            "\n",
            "0: 608x640 (no detections), 339.0ms\n",
            "Speed: 3.1ms preprocess, 339.0ms inference, 1.0ms postprocess per image at shape (1, 3, 608, 640)\n",
            "0\n",
            "\n",
            "0: 608x640 (no detections), 320.9ms\n",
            "Speed: 3.8ms preprocess, 320.9ms inference, 0.9ms postprocess per image at shape (1, 3, 608, 640)\n",
            "0\n",
            "\n",
            "0: 608x640 (no detections), 345.5ms\n",
            "Speed: 3.1ms preprocess, 345.5ms inference, 0.9ms postprocess per image at shape (1, 3, 608, 640)\n",
            "0\n",
            "\n",
            "0: 608x640 (no detections), 338.2ms\n",
            "Speed: 7.9ms preprocess, 338.2ms inference, 1.3ms postprocess per image at shape (1, 3, 608, 640)\n",
            "0\n",
            "\n",
            "0: 608x640 (no detections), 372.9ms\n",
            "Speed: 3.5ms preprocess, 372.9ms inference, 0.9ms postprocess per image at shape (1, 3, 608, 640)\n",
            "0\n",
            "\n",
            "0: 608x640 (no detections), 353.9ms\n",
            "Speed: 3.0ms preprocess, 353.9ms inference, 1.1ms postprocess per image at shape (1, 3, 608, 640)\n",
            "0\n",
            "\n",
            "0: 608x640 (no detections), 371.1ms\n",
            "Speed: 3.3ms preprocess, 371.1ms inference, 1.2ms postprocess per image at shape (1, 3, 608, 640)\n",
            "0\n",
            "\n",
            "0: 608x640 (no detections), 324.7ms\n",
            "Speed: 3.5ms preprocess, 324.7ms inference, 0.9ms postprocess per image at shape (1, 3, 608, 640)\n",
            "0\n",
            "\n",
            "0: 608x640 (no detections), 340.1ms\n",
            "Speed: 3.3ms preprocess, 340.1ms inference, 1.3ms postprocess per image at shape (1, 3, 608, 640)\n",
            "0\n",
            "\n",
            "0: 608x640 (no detections), 337.2ms\n",
            "Speed: 3.8ms preprocess, 337.2ms inference, 1.0ms postprocess per image at shape (1, 3, 608, 640)\n",
            "0\n",
            "\n",
            "0: 608x640 (no detections), 357.1ms\n",
            "Speed: 3.3ms preprocess, 357.1ms inference, 1.0ms postprocess per image at shape (1, 3, 608, 640)\n",
            "0\n",
            "\n",
            "0: 608x640 (no detections), 341.0ms\n",
            "Speed: 5.5ms preprocess, 341.0ms inference, 1.0ms postprocess per image at shape (1, 3, 608, 640)\n",
            "0\n",
            "\n",
            "0: 608x640 (no detections), 251.5ms\n",
            "Speed: 3.2ms preprocess, 251.5ms inference, 0.7ms postprocess per image at shape (1, 3, 608, 640)\n",
            "0\n",
            "\n",
            "0: 608x640 (no detections), 228.4ms\n",
            "Speed: 3.1ms preprocess, 228.4ms inference, 0.7ms postprocess per image at shape (1, 3, 608, 640)\n",
            "0\n",
            "\n",
            "0: 608x640 (no detections), 225.9ms\n",
            "Speed: 3.5ms preprocess, 225.9ms inference, 0.7ms postprocess per image at shape (1, 3, 608, 640)\n",
            "0\n",
            "\n",
            "0: 608x640 (no detections), 220.9ms\n",
            "Speed: 3.4ms preprocess, 220.9ms inference, 0.7ms postprocess per image at shape (1, 3, 608, 640)\n",
            "0\n",
            "\n",
            "0: 608x640 (no detections), 215.5ms\n",
            "Speed: 5.8ms preprocess, 215.5ms inference, 0.7ms postprocess per image at shape (1, 3, 608, 640)\n",
            "0\n",
            "\n",
            "0: 608x640 (no detections), 246.9ms\n",
            "Speed: 3.5ms preprocess, 246.9ms inference, 0.7ms postprocess per image at shape (1, 3, 608, 640)\n",
            "0\n",
            "\n",
            "0: 608x640 (no detections), 219.4ms\n",
            "Speed: 3.7ms preprocess, 219.4ms inference, 0.8ms postprocess per image at shape (1, 3, 608, 640)\n",
            "0\n",
            "\n",
            "0: 608x640 (no detections), 229.7ms\n",
            "Speed: 4.3ms preprocess, 229.7ms inference, 0.7ms postprocess per image at shape (1, 3, 608, 640)\n",
            "0\n",
            "\n",
            "0: 608x640 (no detections), 218.7ms\n",
            "Speed: 5.5ms preprocess, 218.7ms inference, 0.8ms postprocess per image at shape (1, 3, 608, 640)\n",
            "0\n",
            "\n",
            "0: 608x640 (no detections), 250.1ms\n",
            "Speed: 3.4ms preprocess, 250.1ms inference, 0.7ms postprocess per image at shape (1, 3, 608, 640)\n",
            "0\n",
            "\n",
            "0: 608x640 (no detections), 222.0ms\n",
            "Speed: 3.2ms preprocess, 222.0ms inference, 0.8ms postprocess per image at shape (1, 3, 608, 640)\n",
            "0\n",
            "\n",
            "0: 608x640 (no detections), 212.1ms\n",
            "Speed: 5.0ms preprocess, 212.1ms inference, 0.9ms postprocess per image at shape (1, 3, 608, 640)\n",
            "0\n",
            "\n",
            "0: 608x640 (no detections), 213.7ms\n",
            "Speed: 3.2ms preprocess, 213.7ms inference, 0.8ms postprocess per image at shape (1, 3, 608, 640)\n",
            "0\n",
            "\n",
            "0: 608x640 (no detections), 232.3ms\n",
            "Speed: 7.1ms preprocess, 232.3ms inference, 0.9ms postprocess per image at shape (1, 3, 608, 640)\n",
            "0\n",
            "\n",
            "0: 608x640 (no detections), 225.9ms\n",
            "Speed: 3.8ms preprocess, 225.9ms inference, 0.7ms postprocess per image at shape (1, 3, 608, 640)\n",
            "0\n",
            "\n",
            "0: 608x640 (no detections), 218.7ms\n",
            "Speed: 3.5ms preprocess, 218.7ms inference, 0.7ms postprocess per image at shape (1, 3, 608, 640)\n",
            "0\n",
            "\n",
            "0: 608x640 (no detections), 210.0ms\n",
            "Speed: 2.8ms preprocess, 210.0ms inference, 0.8ms postprocess per image at shape (1, 3, 608, 640)\n",
            "0\n",
            "\n",
            "0: 608x640 (no detections), 212.9ms\n",
            "Speed: 5.3ms preprocess, 212.9ms inference, 0.7ms postprocess per image at shape (1, 3, 608, 640)\n",
            "0\n",
            "\n",
            "0: 608x640 (no detections), 219.2ms\n",
            "Speed: 3.5ms preprocess, 219.2ms inference, 0.7ms postprocess per image at shape (1, 3, 608, 640)\n",
            "0\n",
            "\n",
            "0: 608x640 (no detections), 221.7ms\n",
            "Speed: 3.3ms preprocess, 221.7ms inference, 0.7ms postprocess per image at shape (1, 3, 608, 640)\n",
            "0\n",
            "\n",
            "0: 608x640 (no detections), 219.1ms\n",
            "Speed: 3.9ms preprocess, 219.1ms inference, 0.7ms postprocess per image at shape (1, 3, 608, 640)\n",
            "0\n",
            "\n",
            "0: 608x640 (no detections), 216.5ms\n",
            "Speed: 3.4ms preprocess, 216.5ms inference, 0.7ms postprocess per image at shape (1, 3, 608, 640)\n",
            "0\n",
            "\n",
            "0: 608x640 (no detections), 228.5ms\n",
            "Speed: 3.8ms preprocess, 228.5ms inference, 0.7ms postprocess per image at shape (1, 3, 608, 640)\n",
            "0\n"
          ]
        }
      ]
    }
  ]
}